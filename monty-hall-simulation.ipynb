{
 "cells": [
  {
   "cell_type": "markdown",
   "execution_count": null,
   "metadata": {
    "papermill": {
     "duration": 0.009484,
     "end_time": "2020-08-10T19:51:42.356281",
     "exception": false,
     "start_time": "2020-08-10T19:51:42.346797",
     "status": "completed"
    },
    "tags": []
   },
   "source": [
    "## The Monty Hall Problem\n",
    "\n",
    "To learn more about, please visit: https://en.wikipedia.org/wiki/Monty_Hall_problem"
   ]
  },
  {
   "cell_type": "markdown",
   "execution_count": null,
   "metadata": {
    "papermill": {
     "duration": 0.006981,
     "end_time": "2020-08-10T19:51:42.371331",
     "exception": false,
     "start_time": "2020-08-10T19:51:42.364350",
     "status": "completed"
    },
    "tags": []
   },
   "source": [
    "Suppose you're on a game show, and you're given the choice of three doors: Behind one door is a car; behind the others, goats. You pick a door, say No. 1, and the host, who knows what's behind the doors, opens another door, say No. 3, which has a goat. He then says to you, \"Do you want to pick door No. 2?\" Is it to your advantage to switch your choice?\n",
    "\n",
    "Source: Wikipedia"
   ]
  },
  {
   "cell_type": "markdown",
   "execution_count": null,
   "metadata": {
    "papermill": {
     "duration": 0.00887,
     "end_time": "2020-08-10T19:51:42.387749",
     "exception": false,
     "start_time": "2020-08-10T19:51:42.378879",
     "status": "completed"
    },
    "tags": []
   },
   "source": [
    "**Standard assumptions:**\n",
    "1. The host knows what is behind which door and does not randomly open the door\n",
    "2. The host does not open the door containing the prize\n",
    "3. The host doesn't open the same door picked by the guest"
   ]
  },
  {
   "cell_type": "markdown",
   "execution_count": null,
   "metadata": {
    "papermill": {
     "duration": 0.006979,
     "end_time": "2020-08-10T19:51:42.401987",
     "exception": false,
     "start_time": "2020-08-10T19:51:42.395008",
     "status": "completed"
    },
    "tags": []
   },
   "source": [
    "At the outset, the probability of opening the door containing the prize behind is 1/3 since there is only one prize and it's random (assumed no bias). Does the odd change once the host shows open one of the two other doors."
   ]
  },
  {
   "cell_type": "markdown",
   "execution_count": null,
   "metadata": {
    "papermill": {
     "duration": 0.007006,
     "end_time": "2020-08-10T19:51:42.416678",
     "exception": false,
     "start_time": "2020-08-10T19:51:42.409672",
     "status": "completed"
    },
    "tags": []
   },
   "source": [
    "In this notebook, I am going to simulate the Monty Hall problem over a million runs to programmatically prove that the \"switch\" strategy is better than the \"No switch\" strategy. We will also visually explore the probabilities as the number of times the game is played increases"
   ]
  },
  {
   "cell_type": "code",
   "execution_count": 1,
   "metadata": {
    "_cell_guid": "b1076dfc-b9ad-4769-8c92-a6c4dae69d19",
    "_uuid": "8f2839f25d086af736a60e9eeb907d3b93b6e0e5",
    "execution": {
     "iopub.execute_input": "2020-08-10T19:51:42.441158Z",
     "iopub.status.busy": "2020-08-10T19:51:42.440035Z",
     "iopub.status.idle": "2020-08-10T19:51:42.444575Z",
     "shell.execute_reply": "2020-08-10T19:51:42.443858Z"
    },
    "papermill": {
     "duration": 0.020579,
     "end_time": "2020-08-10T19:51:42.444723",
     "exception": false,
     "start_time": "2020-08-10T19:51:42.424144",
     "status": "completed"
    },
    "tags": []
   },
   "outputs": [],
   "source": [
    "# This Python 3 environment comes with many helpful analytics libraries installed\n",
    "# It is defined by the kaggle/python Docker image: https://github.com/kaggle/docker-python\n",
    "# For example, here's several helpful packages to load\n",
    "\n",
    "import numpy as np # linear algebra\n",
    "import pandas as pd # data processing, CSV file I/O (e.g. pd.read_csv)\n",
    "\n",
    "# Input data files are available in the read-only \"../input/\" directory\n",
    "# For example, running this (by clicking run or pressing Shift+Enter) will list all files under the input directory\n",
    "\n",
    "import os\n",
    "for dirname, _, filenames in os.walk('/kaggle/input'):\n",
    "    for filename in filenames:\n",
    "        print(os.path.join(dirname, filename))\n",
    "\n",
    "# You can write up to 5GB to the current directory (/kaggle/working/) that gets preserved as output when you create a version using \"Save & Run All\" \n",
    "# You can also write temporary files to /kaggle/temp/, but they won't be saved outside of the current session"
   ]
  },
  {
   "cell_type": "code",
   "execution_count": 2,
   "metadata": {
    "_cell_guid": "79c7e3d0-c299-4dcb-8224-4455121ee9b0",
    "_uuid": "d629ff2d2480ee46fbb7e2d37f6b5fab8052498a",
    "execution": {
     "iopub.execute_input": "2020-08-10T19:51:42.465882Z",
     "iopub.status.busy": "2020-08-10T19:51:42.465024Z",
     "iopub.status.idle": "2020-08-10T19:51:42.468866Z",
     "shell.execute_reply": "2020-08-10T19:51:42.468209Z"
    },
    "papermill": {
     "duration": 0.016582,
     "end_time": "2020-08-10T19:51:42.469004",
     "exception": false,
     "start_time": "2020-08-10T19:51:42.452422",
     "status": "completed"
    },
    "tags": []
   },
   "outputs": [],
   "source": [
    "import random"
   ]
  },
  {
   "cell_type": "code",
   "execution_count": 3,
   "metadata": {
    "execution": {
     "iopub.execute_input": "2020-08-10T19:51:42.492617Z",
     "iopub.status.busy": "2020-08-10T19:51:42.491662Z",
     "iopub.status.idle": "2020-08-10T19:51:42.495570Z",
     "shell.execute_reply": "2020-08-10T19:51:42.494784Z"
    },
    "papermill": {
     "duration": 0.018633,
     "end_time": "2020-08-10T19:51:42.495707",
     "exception": false,
     "start_time": "2020-08-10T19:51:42.477074",
     "status": "completed"
    },
    "tags": []
   },
   "outputs": [],
   "source": [
    "def binarize(num):\n",
    "\t#binarize function for the three doors\n",
    "\tif num == 1:\n",
    "\t\treturn [0,0,1]\n",
    "\telif num == 2:\n",
    "\t\treturn [0,1,0]\n",
    "\telse:\n",
    "\t\treturn [1,0,0]"
   ]
  },
  {
   "cell_type": "code",
   "execution_count": 4,
   "metadata": {
    "execution": {
     "iopub.execute_input": "2020-08-10T19:51:42.518585Z",
     "iopub.status.busy": "2020-08-10T19:51:42.517471Z",
     "iopub.status.idle": "2020-08-10T19:51:42.521059Z",
     "shell.execute_reply": "2020-08-10T19:51:42.520223Z"
    },
    "papermill": {
     "duration": 0.017566,
     "end_time": "2020-08-10T19:51:42.521197",
     "exception": false,
     "start_time": "2020-08-10T19:51:42.503631",
     "status": "completed"
    },
    "tags": []
   },
   "outputs": [],
   "source": [
    "def rand_outcome():\n",
    "\t# Randomize the door in which the prize is present\n",
    "\t#random.seed(random.randint(1,1e12))\n",
    "  \toutcome = random.sample([1,2,4],1)[0]\n",
    "\t#print (\"Outcome = %d\"%(outcome))\n",
    "  \treturn binarize(outcome)"
   ]
  },
  {
   "cell_type": "code",
   "execution_count": 5,
   "metadata": {
    "execution": {
     "iopub.execute_input": "2020-08-10T19:51:42.543930Z",
     "iopub.status.busy": "2020-08-10T19:51:42.543102Z",
     "iopub.status.idle": "2020-08-10T19:51:42.547854Z",
     "shell.execute_reply": "2020-08-10T19:51:42.546815Z"
    },
    "papermill": {
     "duration": 0.018841,
     "end_time": "2020-08-10T19:51:42.548063",
     "exception": false,
     "start_time": "2020-08-10T19:51:42.529222",
     "status": "completed"
    },
    "tags": []
   },
   "outputs": [],
   "source": [
    "def user_selection():\n",
    "\t# Randomize the door that the user picks the first time\n",
    "\t#seed = random.randint(1,1e12)\n",
    "\tsel = random.sample([0,1,2],1)[0]\n",
    "\t#print (\"User selection = %d\"%(sel))\n",
    "\treturn sel"
   ]
  },
  {
   "cell_type": "code",
   "execution_count": 6,
   "metadata": {
    "execution": {
     "iopub.execute_input": "2020-08-10T19:51:42.577712Z",
     "iopub.status.busy": "2020-08-10T19:51:42.576811Z",
     "iopub.status.idle": "2020-08-10T19:51:42.580407Z",
     "shell.execute_reply": "2020-08-10T19:51:42.579606Z"
    },
    "papermill": {
     "duration": 0.020695,
     "end_time": "2020-08-10T19:51:42.580576",
     "exception": false,
     "start_time": "2020-08-10T19:51:42.559881",
     "status": "completed"
    },
    "tags": []
   },
   "outputs": [],
   "source": [
    "def MontyHallNoSwitch():\n",
    "\t# This returns the outcome (win or loss for the user under No-switch strategy)\n",
    "\tuser_pick_int = user_selection()\n",
    "\toutcome = rand_outcome()\n",
    "\treturn outcome[user_pick_int]"
   ]
  },
  {
   "cell_type": "code",
   "execution_count": 7,
   "metadata": {
    "execution": {
     "iopub.execute_input": "2020-08-10T19:51:42.605882Z",
     "iopub.status.busy": "2020-08-10T19:51:42.604965Z",
     "iopub.status.idle": "2020-08-10T19:51:42.608441Z",
     "shell.execute_reply": "2020-08-10T19:51:42.607690Z"
    },
    "papermill": {
     "duration": 0.019511,
     "end_time": "2020-08-10T19:51:42.608589",
     "exception": false,
     "start_time": "2020-08-10T19:51:42.589078",
     "status": "completed"
    },
    "tags": []
   },
   "outputs": [],
   "source": [
    "def MontyHallSwitch():\n",
    "\t# This returns the outcome (win or loss for the user under Switch strategy)\n",
    "\tuser_pick_int = user_selection()\n",
    "\toutcome = rand_outcome()\n",
    "\t# The host is going to open one of the doors other than what the guest picked\n",
    "\tchoices = [0,1,2]\n",
    "\tchoices.pop(user_pick_int)\n",
    "\t# print (choices)\n",
    "\t# Since the host always opens the door without the prize, the guest loses\n",
    "\t# the game by switching if their original choice was the correct door\n",
    "\tif (outcome[choices[0]] == 0 and outcome[choices[1]] == 0):\n",
    "\t\treturn 0\n",
    "\telse:\n",
    "\t\treturn 1"
   ]
  },
  {
   "cell_type": "code",
   "execution_count": 8,
   "metadata": {
    "execution": {
     "iopub.execute_input": "2020-08-10T19:51:42.634564Z",
     "iopub.status.busy": "2020-08-10T19:51:42.633790Z",
     "iopub.status.idle": "2020-08-10T19:51:42.637874Z",
     "shell.execute_reply": "2020-08-10T19:51:42.637080Z"
    },
    "papermill": {
     "duration": 0.021173,
     "end_time": "2020-08-10T19:51:42.638009",
     "exception": false,
     "start_time": "2020-08-10T19:51:42.616836",
     "status": "completed"
    },
    "tags": []
   },
   "outputs": [],
   "source": [
    "def MontyHallSimulation(iter=10000):\n",
    "\twinsNoSwitch, winsSwitch = 0.0 , 0.0\n",
    "\tfor i in range(0,iter):\n",
    "\t\twinsNoSwitch = winsNoSwitch + MontyHallNoSwitch()\n",
    "\t\twinsSwitch = winsSwitch + MontyHallSwitch()\n",
    "\t\tif i == 0:\n",
    "\t\t\tprint (\"Probability of winning after N iterations  NoSwitch Stategy  Switch Strategy\")\n",
    "\t\telif i%100000 == 0:\n",
    "\t\t\tprint (\"Prob. of winning after {0} iterations  {1}  {2}\".format(i,winsNoSwitch/i, winsSwitch/i))\n",
    "\treturn (winsNoSwitch/iter, winsSwitch/iter)"
   ]
  },
  {
   "cell_type": "markdown",
   "execution_count": null,
   "metadata": {
    "papermill": {
     "duration": 0.007877,
     "end_time": "2020-08-10T19:51:42.654041",
     "exception": false,
     "start_time": "2020-08-10T19:51:42.646164",
     "status": "completed"
    },
    "tags": []
   },
   "source": [
    "Driver program below"
   ]
  },
  {
   "cell_type": "code",
   "execution_count": 9,
   "metadata": {
    "execution": {
     "iopub.execute_input": "2020-08-10T19:51:42.707428Z",
     "iopub.status.busy": "2020-08-10T19:51:42.697132Z",
     "iopub.status.idle": "2020-08-10T19:52:06.694533Z",
     "shell.execute_reply": "2020-08-10T19:52:06.693389Z"
    },
    "papermill": {
     "duration": 24.032676,
     "end_time": "2020-08-10T19:52:06.694779",
     "exception": false,
     "start_time": "2020-08-10T19:51:42.662103",
     "status": "completed"
    },
    "tags": []
   },
   "outputs": [
    {
     "name": "stdout",
     "output_type": "stream",
     "text": [
      "Probability of winning after N iterations  NoSwitch Stategy  Switch Strategy\n",
      "Prob. of winning after 100000 iterations  0.33272  0.66584\n",
      "Prob. of winning after 200000 iterations  0.33157  0.66605\n",
      "Prob. of winning after 300000 iterations  0.33185  0.6652933333333333\n",
      "Prob. of winning after 400000 iterations  0.3324975  0.665165\n",
      "Prob. of winning after 500000 iterations  0.332772  0.666\n",
      "Prob. of winning after 600000 iterations  0.33282833333333334  0.66658\n",
      "Prob. of winning after 700000 iterations  0.33271428571428574  0.66679\n",
      "Prob. of winning after 800000 iterations  0.3328725  0.6668075\n",
      "Prob. of winning after 900000 iterations  0.33281333333333335  0.6669033333333333\n",
      "Probability of winning without switching is 0.332808\n",
      "Probability of winning with switching is 0.667162\n"
     ]
    }
   ],
   "source": [
    "winProbNoSwitch, winProbSwitch = MontyHallSimulation(1000000)\n",
    "print (\"Probability of winning without switching is {}\".format(float(winProbNoSwitch)))\n",
    "print (\"Probability of winning with switching is {}\".format(float(winProbSwitch)))"
   ]
  },
  {
   "cell_type": "markdown",
   "execution_count": null,
   "metadata": {
    "papermill": {
     "duration": 0.00846,
     "end_time": "2020-08-10T19:52:06.712807",
     "exception": false,
     "start_time": "2020-08-10T19:52:06.704347",
     "status": "completed"
    },
    "tags": []
   },
   "source": [
    "As we can see, the probability of winning if you don't switch remains at 33.3% - unchanged even after the host opens one of the doors. Whereas by switching no matter what, the long run probability shoots up to 66.7%"
   ]
  },
  {
   "cell_type": "code",
   "execution_count": 10,
   "metadata": {
    "execution": {
     "iopub.execute_input": "2020-08-10T19:52:06.739240Z",
     "iopub.status.busy": "2020-08-10T19:52:06.738120Z",
     "iopub.status.idle": "2020-08-10T19:52:06.741274Z",
     "shell.execute_reply": "2020-08-10T19:52:06.741853Z"
    },
    "papermill": {
     "duration": 0.02082,
     "end_time": "2020-08-10T19:52:06.742028",
     "exception": false,
     "start_time": "2020-08-10T19:52:06.721208",
     "status": "completed"
    },
    "tags": []
   },
   "outputs": [],
   "source": [
    "def MontyHallSimulationData(iter=10000):\n",
    "    winsNoSwitch, winsSwitch = 0.0 , 0.0\n",
    "    switchWinsProb = []\n",
    "    noswitchWinsProb = []\n",
    "    for i in range(0,iter):\n",
    "        winsNoSwitch = winsNoSwitch + MontyHallNoSwitch()\n",
    "        noswitchWinsProb.append(winsNoSwitch/(i+1))\n",
    "        winsSwitch = winsSwitch + MontyHallSwitch()\n",
    "        switchWinsProb.append(winsSwitch/(i+1))\n",
    "    return (noswitchWinsProb, switchWinsProb)"
   ]
  },
  {
   "cell_type": "code",
   "execution_count": 11,
   "metadata": {
    "execution": {
     "iopub.execute_input": "2020-08-10T19:52:06.784784Z",
     "iopub.status.busy": "2020-08-10T19:52:06.774220Z",
     "iopub.status.idle": "2020-08-10T19:52:07.031292Z",
     "shell.execute_reply": "2020-08-10T19:52:07.030019Z"
    },
    "papermill": {
     "duration": 0.28064,
     "end_time": "2020-08-10T19:52:07.031521",
     "exception": false,
     "start_time": "2020-08-10T19:52:06.750881",
     "status": "completed"
    },
    "tags": []
   },
   "outputs": [],
   "source": [
    "noswitchWinsProb, switchWinsProb = MontyHallSimulationData(10000)"
   ]
  },
  {
   "cell_type": "code",
   "execution_count": 12,
   "metadata": {
    "execution": {
     "iopub.execute_input": "2020-08-10T19:52:07.062110Z",
     "iopub.status.busy": "2020-08-10T19:52:07.060984Z",
     "iopub.status.idle": "2020-08-10T19:52:08.242845Z",
     "shell.execute_reply": "2020-08-10T19:52:08.243505Z"
    },
    "papermill": {
     "duration": 1.199241,
     "end_time": "2020-08-10T19:52:08.243731",
     "exception": false,
     "start_time": "2020-08-10T19:52:07.044490",
     "status": "completed"
    },
    "tags": []
   },
   "outputs": [],
   "source": [
    "import seaborn as sns\n",
    "import matplotlib.pyplot as plt\n",
    "%matplotlib inline"
   ]
  },
  {
   "cell_type": "markdown",
   "execution_count": null,
   "metadata": {
    "papermill": {
     "duration": 0.008958,
     "end_time": "2020-08-10T19:52:08.261909",
     "exception": false,
     "start_time": "2020-08-10T19:52:08.252951",
     "status": "completed"
    },
    "tags": []
   },
   "source": [
    "### Let's plot the win probability after each iteration to see at what it settles down to an equilibrium"
   ]
  },
  {
   "cell_type": "code",
   "execution_count": 13,
   "metadata": {
    "execution": {
     "iopub.execute_input": "2020-08-10T19:52:08.288013Z",
     "iopub.status.busy": "2020-08-10T19:52:08.287171Z",
     "iopub.status.idle": "2020-08-10T19:52:08.301753Z",
     "shell.execute_reply": "2020-08-10T19:52:08.300944Z"
    },
    "papermill": {
     "duration": 0.031008,
     "end_time": "2020-08-10T19:52:08.301891",
     "exception": false,
     "start_time": "2020-08-10T19:52:08.270883",
     "status": "completed"
    },
    "tags": []
   },
   "outputs": [],
   "source": [
    "df1 = pd.DataFrame({'iter':range(10000),'winProb':noswitchWinsProb})\n",
    "df2 = pd.DataFrame({'iter':range(10000),'winProb':switchWinsProb})"
   ]
  },
  {
   "cell_type": "code",
   "execution_count": 14,
   "metadata": {
    "execution": {
     "iopub.execute_input": "2020-08-10T19:52:08.336006Z",
     "iopub.status.busy": "2020-08-10T19:52:08.335127Z",
     "iopub.status.idle": "2020-08-10T19:52:08.345413Z",
     "shell.execute_reply": "2020-08-10T19:52:08.344609Z"
    },
    "papermill": {
     "duration": 0.034581,
     "end_time": "2020-08-10T19:52:08.345571",
     "exception": false,
     "start_time": "2020-08-10T19:52:08.310990",
     "status": "completed"
    },
    "tags": []
   },
   "outputs": [
    {
     "data": {
      "text/html": [
       "<div>\n",
       "<style scoped>\n",
       "    .dataframe tbody tr th:only-of-type {\n",
       "        vertical-align: middle;\n",
       "    }\n",
       "\n",
       "    .dataframe tbody tr th {\n",
       "        vertical-align: top;\n",
       "    }\n",
       "\n",
       "    .dataframe thead th {\n",
       "        text-align: right;\n",
       "    }\n",
       "</style>\n",
       "<table border=\"1\" class=\"dataframe\">\n",
       "  <thead>\n",
       "    <tr style=\"text-align: right;\">\n",
       "      <th></th>\n",
       "      <th>iter</th>\n",
       "      <th>winProb</th>\n",
       "    </tr>\n",
       "  </thead>\n",
       "  <tbody>\n",
       "    <tr>\n",
       "      <th>9995</th>\n",
       "      <td>9995</td>\n",
       "      <td>0.335334</td>\n",
       "    </tr>\n",
       "    <tr>\n",
       "      <th>9996</th>\n",
       "      <td>9996</td>\n",
       "      <td>0.335401</td>\n",
       "    </tr>\n",
       "    <tr>\n",
       "      <th>9997</th>\n",
       "      <td>9997</td>\n",
       "      <td>0.335367</td>\n",
       "    </tr>\n",
       "    <tr>\n",
       "      <th>9998</th>\n",
       "      <td>9998</td>\n",
       "      <td>0.335334</td>\n",
       "    </tr>\n",
       "    <tr>\n",
       "      <th>9999</th>\n",
       "      <td>9999</td>\n",
       "      <td>0.335300</td>\n",
       "    </tr>\n",
       "  </tbody>\n",
       "</table>\n",
       "</div>"
      ],
      "text/plain": [
       "      iter   winProb\n",
       "9995  9995  0.335334\n",
       "9996  9996  0.335401\n",
       "9997  9997  0.335367\n",
       "9998  9998  0.335334\n",
       "9999  9999  0.335300"
      ]
     },
     "execution_count": 14,
     "metadata": {},
     "output_type": "execute_result"
    }
   ],
   "source": [
    "df1.tail()"
   ]
  },
  {
   "cell_type": "code",
   "execution_count": 15,
   "metadata": {
    "execution": {
     "iopub.execute_input": "2020-08-10T19:52:08.372683Z",
     "iopub.status.busy": "2020-08-10T19:52:08.371858Z",
     "iopub.status.idle": "2020-08-10T19:52:11.518515Z",
     "shell.execute_reply": "2020-08-10T19:52:11.519125Z"
    },
    "papermill": {
     "duration": 3.164192,
     "end_time": "2020-08-10T19:52:11.519297",
     "exception": false,
     "start_time": "2020-08-10T19:52:08.355105",
     "status": "completed"
    },
    "tags": []
   },
   "outputs": [
    {
     "data": {
      "text/plain": [
       "<matplotlib.axes._subplots.AxesSubplot at 0x7f2f300ec150>"
      ]
     },
     "execution_count": 15,
     "metadata": {},
     "output_type": "execute_result"
    },
    {
     "data": {
      "image/png": "[encoded data removed]",
      "text/plain": [
       "<Figure size 1008x432 with 2 Axes>"
      ]
     },
     "metadata": {
      "needs_background": "light"
     },
     "output_type": "display_data"
    }
   ],
   "source": [
    "plt.figure(figsize=(14,6))\n",
    "plt.subplot(1,2,1)\n",
    "sns.lineplot(x='iter',y='winProb',data=df1)\n",
    "plt.subplot(1,2,2)\n",
    "sns.lineplot(x='iter',y='winProb',data=df2)"
   ]
  },
  {
   "cell_type": "markdown",
   "execution_count": null,
   "metadata": {
    "papermill": {
     "duration": 0.00936,
     "end_time": "2020-08-10T19:52:11.538467",
     "exception": false,
     "start_time": "2020-08-10T19:52:11.529107",
     "status": "completed"
    },
    "tags": []
   },
   "source": [
    "## We see that by the time we play the game 2000 times or more, the probability has almost settled"
   ]
  },
  {
   "cell_type": "code",
   "execution_count": null,
   "metadata": {
    "papermill": {
     "duration": 0.009221,
     "end_time": "2020-08-10T19:52:11.557524",
     "exception": false,
     "start_time": "2020-08-10T19:52:11.548303",
     "status": "completed"
    },
    "tags": []
   },
   "outputs": [],
   "source": []
  }
 ],
 "metadata": {
  "kernelspec": {
   "display_name": "Python 3",
   "language": "python",
   "name": "python3"
  },
  "language_info": {
   "codemirror_mode": {
    "name": "ipython",
    "version": 3
   },
   "file_extension": ".py",
   "mimetype": "text/x-python",
   "name": "python",
   "nbconvert_exporter": "python",
   "pygments_lexer": "ipython3",
   "version": "3.7.6"
  },
  "papermill": {
   "duration": 34.740323,
   "end_time": "2020-08-10T19:52:11.675585",
   "environment_variables": {},
   "exception": null,
   "input_path": "__notebook__.ipynb",
   "output_path": "__notebook__.ipynb",
   "parameters": {},
   "start_time": "2020-08-10T19:51:36.935262",
   "version": "2.1.0"
  }
 },
 "nbformat": 4,
 "nbformat_minor": 4
}
